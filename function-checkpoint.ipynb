{
 "cells": [
  {
   "cell_type": "code",
   "execution_count": null,
   "id": "53f6e161",
   "metadata": {
    "id": "53f6e161"
   },
   "outputs": [],
   "source": [
    "a= int(input(\"Enter the number:\"))\n",
    "b = int(input(\"Enter the second number:\"))\n",
    "c= a+b\n",
    "print(c)\n",
    "fsd\n",
    "fsd\n",
    "fds\n",
    "fgds\n",
    "g\n",
    "dfg\n",
    "dfg\n",
    "dfg\n",
    "fdg\n",
    "dfg\n",
    "fdg\n",
    "fg\n",
    "g\n",
    "fg\n",
    "a= int(input(\"Enter the number:\"))\n",
    "b = int(input(\"Enter the second number:\"))\n",
    "c= a+b\n",
    "print(c)\n",
    "dfdfgdfgdf\n",
    "sgd\n",
    "g\n",
    "sdfg\n",
    "dfg\n",
    "df\n",
    "g\n",
    "dfg\n",
    "dfg\n",
    "dfg\n",
    "\n",
    "fg\n",
    "dfgf\n",
    "g\n",
    "\n",
    "\n",
    "a= int(input(\"Enter the number:\"))\n",
    "b = int(input(\"Enter the second number:\"))\n",
    "c= a+b\n",
    "print(c)\\\\\n",
    "sdfgdsgd\n",
    "sgdf\n",
    "gdf\n",
    "g\n",
    "dfg\n",
    "dfg\n",
    "dfg\n",
    "\n",
    "a= int(input(\"Enter the number:\"))\n",
    "b = int(input(\"Enter the second number:\"))\n",
    "c= a+b\n",
    "print(c)"
   ]
  },
  {
   "cell_type": "code",
   "execution_count": null,
   "id": "583f2fe6",
   "metadata": {
    "id": "583f2fe6"
   },
   "outputs": [],
   "source": [
    "dis adv:\n",
    "    code duplication\n",
    "    time complexity\n",
    "    space complexity"
   ]
  },
  {
   "cell_type": "code",
   "execution_count": null,
   "id": "689957bb",
   "metadata": {
    "id": "689957bb"
   },
   "outputs": [],
   "source": [
    "def add():\n",
    "    a= int(input(\"Enter the number:\"))\n",
    "    b = int(input(\"Enter the second number:\"))\n",
    "    c= a+b\n",
    "    print(c)"
   ]
  },
  {
   "cell_type": "code",
   "execution_count": null,
   "id": "d607ba3c",
   "metadata": {
    "id": "d607ba3c",
    "outputId": "be932406-9e78-41c4-88d4-cb10e07606e6"
   },
   "outputs": [
    {
     "name": "stdout",
     "output_type": "stream",
     "text": [
      "Enter the number:45\n",
      "Enter the second number:65\n",
      "110\n"
     ]
    }
   ],
   "source": [
    "add()"
   ]
  },
  {
   "cell_type": "code",
   "execution_count": null,
   "id": "f15842bb",
   "metadata": {
    "id": "f15842bb",
    "outputId": "f9302692-658c-43c8-8c76-6c9b663d96c2"
   },
   "outputs": [
    {
     "name": "stdout",
     "output_type": "stream",
     "text": [
      "Enter the number:90\n",
      "Enter the second number:60\n",
      "150\n"
     ]
    }
   ],
   "source": [
    "add()"
   ]
  },
  {
   "cell_type": "code",
   "execution_count": null,
   "id": "d65f8083",
   "metadata": {
    "id": "d65f8083"
   },
   "outputs": [],
   "source": []
  },
  {
   "cell_type": "code",
   "execution_count": null,
   "id": "f2a840b0",
   "metadata": {
    "id": "f2a840b0"
   },
   "outputs": [],
   "source": [
    "def function_name(arguments/parameters): # formal arguemnts\n",
    "    block of code\n",
    "    return variables"
   ]
  },
  {
   "cell_type": "code",
   "execution_count": null,
   "id": "bb28945f",
   "metadata": {
    "id": "bb28945f"
   },
   "outputs": [],
   "source": [
    "function_name(argumements) # actual arguements"
   ]
  },
  {
   "cell_type": "code",
   "execution_count": null,
   "id": "a1b9683a",
   "metadata": {
    "id": "a1b9683a"
   },
   "outputs": [],
   "source": []
  },
  {
   "cell_type": "code",
   "execution_count": null,
   "id": "2fc689b1",
   "metadata": {
    "id": "2fc689b1"
   },
   "outputs": [],
   "source": [
    "def multiplication(a,b):\n",
    "    z = a*b\n",
    "    print(z)"
   ]
  },
  {
   "cell_type": "code",
   "execution_count": null,
   "id": "9ba24186",
   "metadata": {
    "id": "9ba24186",
    "outputId": "27c2bb78-055c-4f86-9b40-9418d6be09fc"
   },
   "outputs": [
    {
     "name": "stdout",
     "output_type": "stream",
     "text": [
      "200\n"
     ]
    }
   ],
   "source": [
    "multiplication(10,20)"
   ]
  },
  {
   "cell_type": "code",
   "execution_count": null,
   "id": "a3cadebb",
   "metadata": {
    "id": "a3cadebb"
   },
   "outputs": [],
   "source": [
    "\n",
    "\n",
    "With arguments and with return values\n",
    "No arguments and with return values\n"
   ]
  },
  {
   "cell_type": "code",
   "execution_count": null,
   "id": "3e9a653a",
   "metadata": {
    "id": "3e9a653a"
   },
   "outputs": [],
   "source": [
    "#No arguments and No return values\n",
    "def add():\n",
    "    a= int(input(\"Enter the number:\"))\n",
    "    b = int(input(\"Enter the second number:\"))\n",
    "    c= a+b\n",
    "    print(c)"
   ]
  },
  {
   "cell_type": "code",
   "execution_count": null,
   "id": "85068d45",
   "metadata": {
    "id": "85068d45",
    "outputId": "fb7d2812-aba9-4427-f330-59e556adcbcf"
   },
   "outputs": [
    {
     "name": "stdout",
     "output_type": "stream",
     "text": [
      "Enter the number:94\n",
      "Enter the second number:4694\n",
      "4788\n"
     ]
    }
   ],
   "source": [
    "add()"
   ]
  },
  {
   "cell_type": "code",
   "execution_count": null,
   "id": "88fb8477",
   "metadata": {
    "id": "88fb8477"
   },
   "outputs": [],
   "source": [
    "#With arguments and No return values\n",
    "def add(a,b,z):\n",
    "    c = a+b+z\n",
    "    print(c) # inside the funtion"
   ]
  },
  {
   "cell_type": "code",
   "execution_count": null,
   "id": "52e6c25f",
   "metadata": {
    "id": "52e6c25f",
    "outputId": "4c21c193-daf5-4601-847f-7cb4ee6c02fc"
   },
   "outputs": [
    {
     "name": "stdout",
     "output_type": "stream",
     "text": [
      "844\n"
     ]
    }
   ],
   "source": [
    "add(95,659,90)"
   ]
  },
  {
   "cell_type": "code",
   "execution_count": null,
   "id": "73514cb7",
   "metadata": {
    "id": "73514cb7"
   },
   "outputs": [],
   "source": [
    "#With arguments and with return values   --->99.99"
   ]
  },
  {
   "cell_type": "code",
   "execution_count": null,
   "id": "009587f1",
   "metadata": {
    "id": "009587f1"
   },
   "outputs": [],
   "source": [
    "def add(a,b):\n",
    "    c = a+b\n",
    "    return c"
   ]
  },
  {
   "cell_type": "code",
   "execution_count": null,
   "id": "0ba95782",
   "metadata": {
    "id": "0ba95782"
   },
   "outputs": [],
   "source": [
    "result = add(45,65)"
   ]
  },
  {
   "cell_type": "code",
   "execution_count": null,
   "id": "ee133b09",
   "metadata": {
    "id": "ee133b09",
    "outputId": "e0838946-ad0d-40d5-bd0a-2362589d139a"
   },
   "outputs": [
    {
     "data": {
      "text/plain": [
       "110"
      ]
     },
     "execution_count": 20,
     "metadata": {},
     "output_type": "execute_result"
    }
   ],
   "source": [
    "result"
   ]
  },
  {
   "cell_type": "code",
   "execution_count": 2,
   "id": "33161603",
   "metadata": {
    "id": "33161603"
   },
   "outputs": [],
   "source": [
    "def string_len(s):\n",
    "    cal_len = len(s)\n",
    "    return cal_len"
   ]
  },
  {
   "cell_type": "code",
   "execution_count": 6,
   "id": "3921807a",
   "metadata": {
    "id": "3921807a",
    "outputId": "c00e2131-44e8-4777-9eca-3791fc4de6d8"
   },
   "outputs": [
    {
     "name": "stdout",
     "output_type": "stream",
     "text": [
      "String is too short in length\n"
     ]
    }
   ],
   "source": [
    "t = string_len('java')\n",
    "if t>=5:\n",
    "    print(\"string is large in length\")\n",
    "else:\n",
    "    print(\"String is too short in length\")"
   ]
  },
  {
   "cell_type": "code",
   "execution_count": 7,
   "id": "baafd735",
   "metadata": {
    "id": "baafd735",
    "outputId": "34057dd7-83a7-43a7-8e38-23b8cfbfae69"
   },
   "outputs": [
    {
     "name": "stdout",
     "output_type": "stream",
     "text": [
      "4\n"
     ]
    }
   ],
   "source": [
    "print(t)"
   ]
  },
  {
   "cell_type": "code",
   "execution_count": 15,
   "id": "9f4a28ae",
   "metadata": {
    "id": "9f4a28ae"
   },
   "outputs": [],
   "source": [
    "def even_odd_cal(no):\n",
    "    if no%2==0:\n",
    "        return no\n",
    "    else:\n",
    "        return False"
   ]
  },
  {
   "cell_type": "code",
   "execution_count": 16,
   "id": "dd572aae",
   "metadata": {
    "id": "dd572aae",
    "outputId": "c29cc3aa-3135-40f6-8261-492cc167f248"
   },
   "outputs": [
    {
     "data": {
      "text/plain": [
       "100"
      ]
     },
     "execution_count": 16,
     "metadata": {},
     "output_type": "execute_result"
    }
   ],
   "source": [
    "even_odd_cal(100)"
   ]
  },
  {
   "cell_type": "code",
   "execution_count": 17,
   "id": "28bc81b6",
   "metadata": {
    "id": "28bc81b6",
    "outputId": "9e8b72e4-5c98-4d55-c6a9-4b86f32d20c5"
   },
   "outputs": [
    {
     "data": {
      "text/plain": [
       "False"
      ]
     },
     "execution_count": 17,
     "metadata": {},
     "output_type": "execute_result"
    }
   ],
   "source": [
    "even_odd_cal(9)"
   ]
  },
  {
   "cell_type": "code",
   "execution_count": 18,
   "id": "fd52cbde",
   "metadata": {
    "id": "fd52cbde"
   },
   "outputs": [],
   "source": [
    "result  = even_odd_cal(100)"
   ]
  },
  {
   "cell_type": "code",
   "execution_count": 19,
   "id": "0fa6bd08",
   "metadata": {
    "id": "0fa6bd08",
    "outputId": "0ddcfea2-4790-42ca-e4c5-7c945a30f315"
   },
   "outputs": [
    {
     "ename": "IndentationError",
     "evalue": "expected an indented block (646152250.py, line 4)",
     "output_type": "error",
     "traceback": [
      "\u001b[1;36m  Input \u001b[1;32mIn [19]\u001b[1;36m\u001b[0m\n\u001b[1;33m    \u001b[0m\n\u001b[1;37m    ^\u001b[0m\n\u001b[1;31mIndentationError\u001b[0m\u001b[1;31m:\u001b[0m expected an indented block\n"
     ]
    }
   ],
   "source": [
    "if result:\n",
    "    print(result)\n",
    "else:\n",
    "    "
   ]
  },
  {
   "cell_type": "code",
   "execution_count": null,
   "id": "2220bf9a",
   "metadata": {
    "id": "2220bf9a"
   },
   "outputs": [],
   "source": [
    "def greet(n):\n",
    "    if n=='Abha':\n",
    "        return \"Good Evening\"\n",
    "    else:\n",
    "        return \"Bye Bye\""
   ]
  },
  {
   "cell_type": "code",
   "execution_count": null,
   "id": "f40b0db1",
   "metadata": {
    "id": "f40b0db1"
   },
   "outputs": [],
   "source": [
    "t = greet('Abha')"
   ]
  },
  {
   "cell_type": "code",
   "execution_count": null,
   "id": "36dad375",
   "metadata": {
    "id": "36dad375",
    "outputId": "9f0519d7-c473-4923-a4b9-e3adc1098108"
   },
   "outputs": [
    {
     "data": {
      "text/plain": [
       "'Good Evening'"
      ]
     },
     "execution_count": 41,
     "metadata": {},
     "output_type": "execute_result"
    }
   ],
   "source": [
    "t"
   ]
  },
  {
   "cell_type": "code",
   "execution_count": null,
   "id": "9034d48b",
   "metadata": {
    "id": "9034d48b"
   },
   "outputs": [],
   "source": [
    "t = greet(\"Sumit\")"
   ]
  },
  {
   "cell_type": "code",
   "execution_count": null,
   "id": "caf90444",
   "metadata": {
    "id": "caf90444",
    "outputId": "2a233c50-1079-4e5c-bc18-c2164d94f889"
   },
   "outputs": [
    {
     "data": {
      "text/plain": [
       "'Bye Bye'"
      ]
     },
     "execution_count": 43,
     "metadata": {},
     "output_type": "execute_result"
    }
   ],
   "source": [
    "t"
   ]
  },
  {
   "cell_type": "code",
   "execution_count": 24,
   "id": "25dcdb1b",
   "metadata": {
    "id": "25dcdb1b"
   },
   "outputs": [],
   "source": [
    "p = 'PyThonNNNNNNNmnasdrmfdfmdffPPP' # assigment"
   ]
  },
  {
   "cell_type": "code",
   "execution_count": 25,
   "id": "070130d3",
   "metadata": {
    "id": "070130d3"
   },
   "outputs": [],
   "source": [
    "count = 0\n",
    "for i in p:\n",
    "    if not i.isupper():\n",
    "        count+=1\n",
    "     "
   ]
  },
  {
   "cell_type": "code",
   "execution_count": 26,
   "id": "470c87af",
   "metadata": {
    "id": "470c87af",
    "outputId": "3446d38e-c0da-415e-dbe4-82fab89c9aa7"
   },
   "outputs": [
    {
     "name": "stdout",
     "output_type": "stream",
     "text": [
      "18\n"
     ]
    }
   ],
   "source": [
    "print(count)"
   ]
  },
  {
   "cell_type": "code",
   "execution_count": null,
   "id": "782f15b7",
   "metadata": {
    "id": "782f15b7"
   },
   "outputs": [],
   "source": []
  },
  {
   "cell_type": "code",
   "execution_count": null,
   "id": "21281449",
   "metadata": {
    "id": "21281449",
    "outputId": "70a30351-b2b4-405a-a007-3494364c5eac"
   },
   "outputs": [
    {
     "data": {
      "text/plain": [
       "[345, 45]"
      ]
     },
     "execution_count": 65,
     "metadata": {},
     "output_type": "execute_result"
    }
   ],
   "source": [
    "list1"
   ]
  },
  {
   "cell_type": "code",
   "execution_count": null,
   "id": "875aedb2",
   "metadata": {
    "id": "875aedb2"
   },
   "outputs": [],
   "source": [
    "function\n",
    "method "
   ]
  },
  {
   "cell_type": "code",
   "execution_count": null,
   "id": "342669d8",
   "metadata": {
    "id": "342669d8"
   },
   "outputs": [],
   "source": [
    "#call  by reference  wait"
   ]
  },
  {
   "cell_type": "code",
   "execution_count": null,
   "id": "904d1fe2",
   "metadata": {
    "id": "904d1fe2"
   },
   "outputs": [],
   "source": [
    "def add(x,y):\n",
    "    "
   ]
  },
  {
   "cell_type": "code",
   "execution_count": null,
   "id": "1dc9401d",
   "metadata": {
    "id": "1dc9401d"
   },
   "outputs": [],
   "source": [
    "packing and unpacking"
   ]
  },
  {
   "cell_type": "code",
   "execution_count": null,
   "id": "fe5b9eab",
   "metadata": {
    "id": "fe5b9eab"
   },
   "outputs": [],
   "source": [
    "a = 10,20,30,60   # tuple"
   ]
  },
  {
   "cell_type": "code",
   "execution_count": null,
   "id": "2e1d777a",
   "metadata": {
    "id": "2e1d777a",
    "outputId": "70aef6b7-e628-4d36-bfa5-997339bb6936"
   },
   "outputs": [
    {
     "data": {
      "text/plain": [
       "(10, 20, 30, 60)"
      ]
     },
     "execution_count": 68,
     "metadata": {},
     "output_type": "execute_result"
    }
   ],
   "source": [
    "a"
   ]
  },
  {
   "cell_type": "code",
   "execution_count": null,
   "id": "1ea5c898",
   "metadata": {
    "id": "1ea5c898"
   },
   "outputs": [],
   "source": [
    "a,b,c = 10,20,30"
   ]
  },
  {
   "cell_type": "code",
   "execution_count": null,
   "id": "317655b8",
   "metadata": {
    "id": "317655b8",
    "outputId": "2f6092f5-2b0b-4c96-9d0b-364762d038fd"
   },
   "outputs": [
    {
     "data": {
      "text/plain": [
       "10"
      ]
     },
     "execution_count": 70,
     "metadata": {},
     "output_type": "execute_result"
    }
   ],
   "source": [
    "a"
   ]
  },
  {
   "cell_type": "code",
   "execution_count": null,
   "id": "09d51b55",
   "metadata": {
    "id": "09d51b55",
    "outputId": "80c776e4-7b60-4d7e-cc5b-55f6a313a6a5"
   },
   "outputs": [
    {
     "data": {
      "text/plain": [
       "20"
      ]
     },
     "execution_count": 71,
     "metadata": {},
     "output_type": "execute_result"
    }
   ],
   "source": [
    "b"
   ]
  },
  {
   "cell_type": "code",
   "execution_count": null,
   "id": "1848cd49",
   "metadata": {
    "id": "1848cd49",
    "outputId": "304933ef-6c76-49c6-f2e7-06535d6aa6b2"
   },
   "outputs": [
    {
     "data": {
      "text/plain": [
       "30"
      ]
     },
     "execution_count": 72,
     "metadata": {},
     "output_type": "execute_result"
    }
   ],
   "source": [
    "c"
   ]
  },
  {
   "cell_type": "code",
   "execution_count": null,
   "id": "60c33fd4",
   "metadata": {
    "id": "60c33fd4"
   },
   "outputs": [],
   "source": [
    "p = [100,200,300]"
   ]
  },
  {
   "cell_type": "code",
   "execution_count": null,
   "id": "32d51031",
   "metadata": {
    "id": "32d51031"
   },
   "outputs": [],
   "source": [
    "x,y,z = p  #unpacking"
   ]
  },
  {
   "cell_type": "code",
   "execution_count": null,
   "id": "75347582",
   "metadata": {
    "id": "75347582",
    "outputId": "1bb3981f-360e-4d79-9e6f-ea82f63cb228"
   },
   "outputs": [
    {
     "data": {
      "text/plain": [
       "100"
      ]
     },
     "execution_count": 75,
     "metadata": {},
     "output_type": "execute_result"
    }
   ],
   "source": [
    "x"
   ]
  },
  {
   "cell_type": "code",
   "execution_count": null,
   "id": "745b5dcb",
   "metadata": {
    "id": "745b5dcb",
    "outputId": "f9f97fd4-b64a-4725-a332-18320c7421e8"
   },
   "outputs": [
    {
     "data": {
      "text/plain": [
       "200"
      ]
     },
     "execution_count": 76,
     "metadata": {},
     "output_type": "execute_result"
    }
   ],
   "source": [
    "y"
   ]
  },
  {
   "cell_type": "code",
   "execution_count": null,
   "id": "e9338ffa",
   "metadata": {
    "id": "e9338ffa",
    "outputId": "968242d9-bba4-4299-a4d5-aa9c72911b49"
   },
   "outputs": [
    {
     "data": {
      "text/plain": [
       "300"
      ]
     },
     "execution_count": 77,
     "metadata": {},
     "output_type": "execute_result"
    }
   ],
   "source": [
    "z"
   ]
  },
  {
   "cell_type": "code",
   "execution_count": null,
   "id": "d353a2b9",
   "metadata": {
    "id": "d353a2b9",
    "outputId": "48a6ca68-1962-4d4c-cc7f-d12abf530fe7"
   },
   "outputs": [
    {
     "ename": "ValueError",
     "evalue": "too many values to unpack (expected 2)",
     "output_type": "error",
     "traceback": [
      "\u001b[1;31m---------------------------------------------------------------------------\u001b[0m",
      "\u001b[1;31mValueError\u001b[0m                                Traceback (most recent call last)",
      "\u001b[1;32m<ipython-input-79-29fe14add4a7>\u001b[0m in \u001b[0;36m<module>\u001b[1;34m\u001b[0m\n\u001b[1;32m----> 1\u001b[1;33m \u001b[0ma\u001b[0m\u001b[1;33m,\u001b[0m\u001b[0mb\u001b[0m \u001b[1;33m=\u001b[0m \u001b[0mp\u001b[0m\u001b[1;33m\u001b[0m\u001b[1;33m\u001b[0m\u001b[0m\n\u001b[0m",
      "\u001b[1;31mValueError\u001b[0m: too many values to unpack (expected 2)"
     ]
    }
   ],
   "source": [
    "a,b = p"
   ]
  },
  {
   "cell_type": "code",
   "execution_count": null,
   "id": "a930ddb7",
   "metadata": {
    "id": "a930ddb7"
   },
   "outputs": [],
   "source": [
    "def add(x,y):\n",
    "    z = x+y\n",
    "    return z,x,y"
   ]
  },
  {
   "cell_type": "code",
   "execution_count": null,
   "id": "995b6e1f",
   "metadata": {
    "id": "995b6e1f",
    "outputId": "1bce1ec9-666b-45b4-8293-11302fb93f22"
   },
   "outputs": [
    {
     "ename": "ValueError",
     "evalue": "too many values to unpack (expected 2)",
     "output_type": "error",
     "traceback": [
      "\u001b[1;31m---------------------------------------------------------------------------\u001b[0m",
      "\u001b[1;31mValueError\u001b[0m                                Traceback (most recent call last)",
      "\u001b[1;32m<ipython-input-88-cb7a5a23567b>\u001b[0m in \u001b[0;36m<module>\u001b[1;34m\u001b[0m\n\u001b[1;32m----> 1\u001b[1;33m \u001b[0mresult\u001b[0m\u001b[1;33m,\u001b[0m\u001b[0mx1\u001b[0m \u001b[1;33m=\u001b[0m \u001b[0madd\u001b[0m\u001b[1;33m(\u001b[0m\u001b[1;36m100\u001b[0m\u001b[1;33m,\u001b[0m\u001b[1;36m200\u001b[0m\u001b[1;33m)\u001b[0m\u001b[1;33m\u001b[0m\u001b[1;33m\u001b[0m\u001b[0m\n\u001b[0m",
      "\u001b[1;31mValueError\u001b[0m: too many values to unpack (expected 2)"
     ]
    }
   ],
   "source": [
    "result,x1 = add(100,200)"
   ]
  },
  {
   "cell_type": "code",
   "execution_count": null,
   "id": "069dc740",
   "metadata": {
    "id": "069dc740",
    "outputId": "aee9e3ea-a90b-4e41-db85-6d2b37b1a08b"
   },
   "outputs": [
    {
     "data": {
      "text/plain": [
       "300"
      ]
     },
     "execution_count": 84,
     "metadata": {},
     "output_type": "execute_result"
    }
   ],
   "source": [
    "result"
   ]
  },
  {
   "cell_type": "code",
   "execution_count": null,
   "id": "1d5e36f2",
   "metadata": {
    "id": "1d5e36f2",
    "outputId": "f6ff5e95-2ec8-494f-8e05-606b511e09b3"
   },
   "outputs": [
    {
     "data": {
      "text/plain": [
       "100"
      ]
     },
     "execution_count": 85,
     "metadata": {},
     "output_type": "execute_result"
    }
   ],
   "source": [
    "x1"
   ]
  },
  {
   "cell_type": "code",
   "execution_count": null,
   "id": "6ccfd6b4",
   "metadata": {
    "id": "6ccfd6b4",
    "outputId": "bf23f5fb-5ea1-4789-d7df-1f100fe2850b"
   },
   "outputs": [
    {
     "data": {
      "text/plain": [
       "200"
      ]
     },
     "execution_count": 86,
     "metadata": {},
     "output_type": "execute_result"
    }
   ],
   "source": [
    "x2"
   ]
  },
  {
   "cell_type": "code",
   "execution_count": null,
   "id": "56b9c6c3",
   "metadata": {
    "id": "56b9c6c3"
   },
   "outputs": [],
   "source": []
  },
  {
   "cell_type": "code",
   "execution_count": null,
   "id": "15eb7fec",
   "metadata": {
    "id": "15eb7fec"
   },
   "outputs": [],
   "source": []
  },
  {
   "cell_type": "code",
   "execution_count": null,
   "id": "6067fce3",
   "metadata": {
    "id": "6067fce3"
   },
   "outputs": [],
   "source": [
    "\n"
   ]
  },
  {
   "cell_type": "code",
   "execution_count": null,
   "id": "e2ee8c57",
   "metadata": {
    "id": "e2ee8c57",
    "outputId": "32c0cb05-2e2b-4634-bbdc-c0b4a68c622b"
   },
   "outputs": [
    {
     "data": {
      "text/plain": [
       "<function __main__.add(x, y)>"
      ]
     },
     "execution_count": 90,
     "metadata": {},
     "output_type": "execute_result"
    }
   ],
   "source": [
    "add"
   ]
  },
  {
   "cell_type": "code",
   "execution_count": null,
   "id": "380b91e7",
   "metadata": {
    "id": "380b91e7"
   },
   "outputs": [],
   "source": [
    "def strconcat(str1,str2):\n",
    "    strconcatresult = str1+str2\n",
    "    return strconcatresult"
   ]
  },
  {
   "cell_type": "code",
   "execution_count": null,
   "id": "5256f5e7",
   "metadata": {
    "id": "5256f5e7"
   },
   "outputs": [],
   "source": [
    "r = strconcat('Python','Java')"
   ]
  },
  {
   "cell_type": "code",
   "execution_count": null,
   "id": "e5cb0bf9",
   "metadata": {
    "id": "e5cb0bf9",
    "outputId": "969e1633-0fc1-4ccb-9c17-ec373ec792fb"
   },
   "outputs": [
    {
     "data": {
      "text/plain": [
       "'PythonJava'"
      ]
     },
     "execution_count": 95,
     "metadata": {},
     "output_type": "execute_result"
    }
   ],
   "source": [
    "r"
   ]
  },
  {
   "cell_type": "code",
   "execution_count": null,
   "id": "79d1ace0",
   "metadata": {
    "id": "79d1ace0"
   },
   "outputs": [],
   "source": [
    "function type --> strcture"
   ]
  },
  {
   "cell_type": "code",
   "execution_count": null,
   "id": "dd521dc6",
   "metadata": {
    "id": "dd521dc6"
   },
   "outputs": [],
   "source": [
    "Types of arguemnts\n",
    "1.positional\n",
    "2.default\n",
    "3.variable\n",
    "4.keyword \n",
    "5.variable length keyword\n"
   ]
  },
  {
   "cell_type": "code",
   "execution_count": null,
   "id": "e18b3e4a",
   "metadata": {
    "id": "e18b3e4a"
   },
   "outputs": [],
   "source": []
  },
  {
   "cell_type": "code",
   "execution_count": null,
   "id": "0aa52461",
   "metadata": {
    "id": "0aa52461"
   },
   "outputs": [],
   "source": [
    "def details(name,age,sal,city):  # 8-10\n",
    "    print(\"name:\",name)\n",
    "    print(\"age:\",age)\n",
    "    print(\"sal:\",sal)\n",
    "    print(\"city:\",city)"
   ]
  },
  {
   "cell_type": "code",
   "execution_count": null,
   "id": "00ca24ab",
   "metadata": {
    "id": "00ca24ab"
   },
   "outputs": [],
   "source": [
    "#positional arguments ---> position \n"
   ]
  },
  {
   "cell_type": "code",
   "execution_count": null,
   "id": "5770d7f7",
   "metadata": {
    "id": "5770d7f7",
    "outputId": "9967e567-430e-48dc-85f6-c5aebc326f14"
   },
   "outputs": [
    {
     "name": "stdout",
     "output_type": "stream",
     "text": [
      "name: Jon\n",
      "age: 45\n",
      "sal: 95000\n",
      "city: Pune\n"
     ]
    }
   ],
   "source": [
    "details(age=45,name='Jon',city='Pune',sal=95000)"
   ]
  },
  {
   "cell_type": "code",
   "execution_count": null,
   "id": "501e6e36",
   "metadata": {
    "id": "501e6e36"
   },
   "outputs": [],
   "source": []
  },
  {
   "cell_type": "code",
   "execution_count": null,
   "id": "83a7141b",
   "metadata": {
    "id": "83a7141b"
   },
   "outputs": [],
   "source": []
  },
  {
   "cell_type": "code",
   "execution_count": null,
   "id": "41735e6f",
   "metadata": {
    "id": "41735e6f"
   },
   "outputs": [],
   "source": []
  },
  {
   "cell_type": "code",
   "execution_count": null,
   "id": "832bdae1",
   "metadata": {
    "id": "832bdae1"
   },
   "outputs": [],
   "source": []
  },
  {
   "cell_type": "code",
   "execution_count": null,
   "id": "604f8c04",
   "metadata": {
    "id": "604f8c04",
    "outputId": "28eda33a-123c-4fd6-b559-605aac65995d"
   },
   "outputs": [
    {
     "name": "stdout",
     "output_type": "stream",
     "text": [
      "name: Akash\n",
      "age: 45\n",
      "sal: 75455\n",
      "city: Mumbai\n"
     ]
    }
   ],
   "source": [
    "details(city='Mumbai',sal=75455,name='Akash',age=45)  # 90 "
   ]
  },
  {
   "cell_type": "code",
   "execution_count": null,
   "id": "98e10951",
   "metadata": {
    "id": "98e10951"
   },
   "outputs": [],
   "source": []
  },
  {
   "cell_type": "code",
   "execution_count": null,
   "id": "3300d129",
   "metadata": {
    "id": "3300d129"
   },
   "outputs": [],
   "source": [
    "def details(**kwargs):\n",
    "    print(kwargs)"
   ]
  },
  {
   "cell_type": "code",
   "execution_count": null,
   "id": "2aa1fdd7",
   "metadata": {
    "id": "2aa1fdd7",
    "outputId": "3a4a27e9-6e2f-4464-fc12-2f8ac8a43669"
   },
   "outputs": [
    {
     "name": "stdout",
     "output_type": "stream",
     "text": [
      "{'name': 'Keshav', 'sal': 94949, 'city': 'pune', 'dept': 'HR', 'Designation': 'Sr.HR'}\n"
     ]
    }
   ],
   "source": [
    "details(name='Keshav',sal=94949,city='pune',dept='HR',Designation= 'Sr.HR')"
   ]
  },
  {
   "cell_type": "code",
   "execution_count": null,
   "id": "58f73703",
   "metadata": {
    "id": "58f73703"
   },
   "outputs": [],
   "source": [
    "*agrs --> varibale length arg\n",
    "**kwargs ---> variable length key : value"
   ]
  },
  {
   "cell_type": "code",
   "execution_count": null,
   "id": "dd12e2c6",
   "metadata": {
    "id": "dd12e2c6"
   },
   "outputs": [],
   "source": [
    "Interview:\n",
    "    args vs kwags\n",
    "    tuple vs dict\n",
    "    "
   ]
  },
  {
   "cell_type": "code",
   "execution_count": null,
   "id": "8e73ebd8",
   "metadata": {
    "id": "8e73ebd8"
   },
   "outputs": [],
   "source": [
    "p = [10,20,30,40,50,60]"
   ]
  },
  {
   "cell_type": "code",
   "execution_count": null,
   "id": "562214ec",
   "metadata": {
    "id": "562214ec"
   },
   "outputs": [],
   "source": [
    "sqr = []\n",
    "def srqlist(r):\n",
    "    for i in r:\n",
    "        sqr.append(i*i)"
   ]
  },
  {
   "cell_type": "code",
   "execution_count": null,
   "id": "2c170cbb",
   "metadata": {
    "id": "2c170cbb"
   },
   "outputs": [],
   "source": [
    "srqlist(p)"
   ]
  },
  {
   "cell_type": "code",
   "execution_count": null,
   "id": "88fe9cad",
   "metadata": {
    "id": "88fe9cad",
    "outputId": "26003443-2cc5-41ed-d5eb-307e51bf96e3"
   },
   "outputs": [
    {
     "data": {
      "text/plain": [
       "[100, 400, 900, 1600, 2500, 3600]"
      ]
     },
     "execution_count": 12,
     "metadata": {},
     "output_type": "execute_result"
    }
   ],
   "source": [
    "sqr"
   ]
  },
  {
   "cell_type": "code",
   "execution_count": null,
   "id": "691105c7",
   "metadata": {
    "id": "691105c7"
   },
   "outputs": [],
   "source": [
    "email = ['asdfsf@gmail.com','asfsf@yahoo.com','asfsafsdf@rediffmail.com','safcv','zxczxcxzc','zxczcvs']"
   ]
  },
  {
   "cell_type": "code",
   "execution_count": null,
   "id": "376f6459",
   "metadata": {
    "id": "376f6459"
   },
   "outputs": [],
   "source": [
    "find\n",
    "membership\n",
    "#contains ---> __contains__()  # magic methods/dendur method"
   ]
  },
  {
   "cell_type": "code",
   "execution_count": null,
   "id": "bddf1194",
   "metadata": {
    "id": "bddf1194"
   },
   "outputs": [],
   "source": [
    "p = [1549,16216,1616496,16216419,6219489,169494,161941,151,61941,161918451,616156156,1616254]"
   ]
  },
  {
   "cell_type": "code",
   "execution_count": null,
   "id": "e2478882",
   "metadata": {
    "id": "e2478882"
   },
   "outputs": [],
   "source": [
    "result = [ 5 ]\n",
    "5 -->"
   ]
  },
  {
   "cell_type": "code",
   "execution_count": null,
   "id": "2205681e",
   "metadata": {
    "id": "2205681e"
   },
   "outputs": [],
   "source": [
    "problem "
   ]
  },
  {
   "cell_type": "code",
   "execution_count": null,
   "id": "294c27da",
   "metadata": {
    "id": "294c27da"
   },
   "outputs": [],
   "source": [
    "p = ['test.txt','tetst.pdf'] --> pdf\n",
    "\n",
    "pdf_list = []\n",
    "txt_list= []\n",
    "excel_list =[]"
   ]
  },
  {
   "cell_type": "code",
   "execution_count": null,
   "id": "5c3992c5",
   "metadata": {
    "id": "5c3992c5"
   },
   "outputs": [],
   "source": [
    "99 "
   ]
  },
  {
   "cell_type": "code",
   "execution_count": 33,
   "id": "5088123d",
   "metadata": {
    "id": "5088123d"
   },
   "outputs": [],
   "source": [
    "p= ('123456')"
   ]
  },
  {
   "cell_type": "code",
   "execution_count": 34,
   "id": "0f8e256d",
   "metadata": {
    "id": "0f8e256d"
   },
   "outputs": [
    {
     "data": {
      "text/plain": [
       "str"
      ]
     },
     "execution_count": 34,
     "metadata": {},
     "output_type": "execute_result"
    }
   ],
   "source": [
    "type(p)"
   ]
  },
  {
   "cell_type": "code",
   "execution_count": 36,
   "id": "c48b4e0f",
   "metadata": {
    "id": "c48b4e0f"
   },
   "outputs": [
    {
     "data": {
      "text/plain": [
       "5"
      ]
     },
     "execution_count": 36,
     "metadata": {},
     "output_type": "execute_result"
    }
   ],
   "source": [
    "p.find('6')"
   ]
  },
  {
   "cell_type": "code",
   "execution_count": null,
   "id": "ec99dbba",
   "metadata": {
    "id": "ec99dbba"
   },
   "outputs": [],
   "source": []
  },
  {
   "cell_type": "code",
   "execution_count": null,
   "id": "204d9a47",
   "metadata": {
    "id": "204d9a47"
   },
   "outputs": [],
   "source": []
  },
  {
   "cell_type": "code",
   "execution_count": null,
   "id": "a7d72fbc",
   "metadata": {
    "id": "a7d72fbc"
   },
   "outputs": [],
   "source": []
  }
 ],
 "metadata": {
  "colab": {
   "name": "function-checkpoint.ipynb",
   "provenance": []
  },
  "kernelspec": {
   "display_name": "Python 3 (ipykernel)",
   "language": "python",
   "name": "python3"
  },
  "language_info": {
   "codemirror_mode": {
    "name": "ipython",
    "version": 3
   },
   "file_extension": ".py",
   "mimetype": "text/x-python",
   "name": "python",
   "nbconvert_exporter": "python",
   "pygments_lexer": "ipython3",
   "version": "3.9.12"
  }
 },
 "nbformat": 4,
 "nbformat_minor": 5
}
